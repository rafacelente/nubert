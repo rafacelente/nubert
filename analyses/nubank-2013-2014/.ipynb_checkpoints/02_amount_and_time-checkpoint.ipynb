{
 "cells": [
  {
   "cell_type": "code",
   "execution_count": 1,
   "id": "4926c98a-0c0c-49f2-8f65-279a5f8dfe2d",
   "metadata": {
    "execution": {
     "iopub.execute_input": "2024-10-17T01:31:10.490398Z",
     "iopub.status.busy": "2024-10-17T01:31:10.490061Z",
     "iopub.status.idle": "2024-10-17T01:31:11.597272Z",
     "shell.execute_reply": "2024-10-17T01:31:11.596703Z",
     "shell.execute_reply.started": "2024-10-17T01:31:10.490371Z"
    }
   },
   "outputs": [],
   "source": [
    "import pandas as pd\n",
    "import numpy as np\n",
    "import math\n",
    "import matplotlib as mpl\n",
    "import matplotlib.pyplot as plt\n",
    "\n",
    "#8A05BE\n",
    "mpl.rcParams['axes.prop_cycle'] = mpl.cycler(color=[\"#8A05BE\", \"#BA4DE3\", \"#191919\"]) "
   ]
  },
  {
   "cell_type": "code",
   "execution_count": 2,
   "id": "5d29ec35-83fb-4e03-b219-e60c8469aef1",
   "metadata": {
    "execution": {
     "iopub.execute_input": "2024-10-17T01:31:14.374052Z",
     "iopub.status.busy": "2024-10-17T01:31:14.373457Z",
     "iopub.status.idle": "2024-10-17T01:31:15.061132Z",
     "shell.execute_reply": "2024-10-17T01:31:15.060644Z",
     "shell.execute_reply.started": "2024-10-17T01:31:14.374030Z"
    }
   },
   "outputs": [],
   "source": [
    "df = pd.read_csv('/notebooks/nubank/amount_dataset_raw_2.csv')"
   ]
  },
  {
   "cell_type": "code",
   "execution_count": 3,
   "id": "5e65f953-310b-4c8b-a2c8-9593bb900362",
   "metadata": {
    "execution": {
     "iopub.execute_input": "2024-10-17T01:31:17.246832Z",
     "iopub.status.busy": "2024-10-17T01:31:17.245999Z",
     "iopub.status.idle": "2024-10-17T01:31:17.261578Z",
     "shell.execute_reply": "2024-10-17T01:31:17.261098Z",
     "shell.execute_reply.started": "2024-10-17T01:31:17.246802Z"
    }
   },
   "outputs": [
    {
     "data": {
      "text/html": [
       "<div>\n",
       "<style scoped>\n",
       "    .dataframe tbody tr th:only-of-type {\n",
       "        vertical-align: middle;\n",
       "    }\n",
       "\n",
       "    .dataframe tbody tr th {\n",
       "        vertical-align: top;\n",
       "    }\n",
       "\n",
       "    .dataframe thead th {\n",
       "        text-align: right;\n",
       "    }\n",
       "</style>\n",
       "<table border=\"1\" class=\"dataframe\">\n",
       "  <thead>\n",
       "    <tr style=\"text-align: right;\">\n",
       "      <th></th>\n",
       "      <th>Year Month</th>\n",
       "      <th>Agency Number</th>\n",
       "      <th>Agency Name</th>\n",
       "      <th>Card Holder Last Name</th>\n",
       "      <th>Card Holder First Name</th>\n",
       "      <th>Description</th>\n",
       "      <th>Amount</th>\n",
       "      <th>Vendor</th>\n",
       "      <th>Transaction Date</th>\n",
       "      <th>Posted Date</th>\n",
       "      <th>Merchant Category Code (MCC)</th>\n",
       "    </tr>\n",
       "  </thead>\n",
       "  <tbody>\n",
       "    <tr>\n",
       "      <th>0</th>\n",
       "      <td>201207</td>\n",
       "      <td>1000</td>\n",
       "      <td>OKLAHOMA STATE UNIVERSITY</td>\n",
       "      <td>SCHANZ</td>\n",
       "      <td>B</td>\n",
       "      <td>GENERAL PURCHASE</td>\n",
       "      <td>$29.00</td>\n",
       "      <td>FERGUSON ENTERPRISES 1832</td>\n",
       "      <td>24.07.2012 00:00:00</td>\n",
       "      <td>25.07.2012 00:00:00</td>\n",
       "      <td>PLUMBING AND HEATING EQUIPMENT AND SUPPLIES</td>\n",
       "    </tr>\n",
       "    <tr>\n",
       "      <th>1</th>\n",
       "      <td>201207</td>\n",
       "      <td>1000</td>\n",
       "      <td>OKLAHOMA STATE UNIVERSITY</td>\n",
       "      <td>SCHANZ</td>\n",
       "      <td>B</td>\n",
       "      <td>GENERAL PURCHASE</td>\n",
       "      <td>$119.80</td>\n",
       "      <td>DOC'S SAVAGE SUPPLY</td>\n",
       "      <td>23.07.2012 00:00:00</td>\n",
       "      <td>25.07.2012 00:00:00</td>\n",
       "      <td>NURSERIES LAWN AND GARDEN SUPPLY STORES</td>\n",
       "    </tr>\n",
       "    <tr>\n",
       "      <th>2</th>\n",
       "      <td>201207</td>\n",
       "      <td>1000</td>\n",
       "      <td>OKLAHOMA STATE UNIVERSITY</td>\n",
       "      <td>SCHIELACK</td>\n",
       "      <td>V</td>\n",
       "      <td>GENERAL PURCHASE</td>\n",
       "      <td>$84.99</td>\n",
       "      <td>ATW OF CHICKASHA # 29</td>\n",
       "      <td>24.07.2012 00:00:00</td>\n",
       "      <td>25.07.2012 00:00:00</td>\n",
       "      <td>MISCELLANEOUS AND SPECIALTY RETAIL STORES</td>\n",
       "    </tr>\n",
       "    <tr>\n",
       "      <th>3</th>\n",
       "      <td>201207</td>\n",
       "      <td>1000</td>\n",
       "      <td>OKLAHOMA STATE UNIVERSITY</td>\n",
       "      <td>SEMTNER</td>\n",
       "      <td>N</td>\n",
       "      <td>M10-1.25 HSS 3 F EA</td>\n",
       "      <td>$9.63</td>\n",
       "      <td>FASTENAL COMPANY01</td>\n",
       "      <td>24.07.2012 00:00:00</td>\n",
       "      <td>25.07.2012 00:00:00</td>\n",
       "      <td>HARDWARE STORES</td>\n",
       "    </tr>\n",
       "    <tr>\n",
       "      <th>4</th>\n",
       "      <td>201207</td>\n",
       "      <td>1000</td>\n",
       "      <td>OKLAHOMA STATE UNIVERSITY</td>\n",
       "      <td>SHELTON</td>\n",
       "      <td>C</td>\n",
       "      <td>GENERAL PURCHASE</td>\n",
       "      <td>$32.50</td>\n",
       "      <td>WM SUPERCENTER#0137</td>\n",
       "      <td>24.07.2012 00:00:00</td>\n",
       "      <td>25.07.2012 00:00:00</td>\n",
       "      <td>GROCERY STORES AND SUPERMARKETS</td>\n",
       "    </tr>\n",
       "  </tbody>\n",
       "</table>\n",
       "</div>"
      ],
      "text/plain": [
       "   Year Month  Agency Number                Agency Name Card Holder Last Name  \\\n",
       "0      201207           1000  OKLAHOMA STATE UNIVERSITY                SCHANZ   \n",
       "1      201207           1000  OKLAHOMA STATE UNIVERSITY                SCHANZ   \n",
       "2      201207           1000  OKLAHOMA STATE UNIVERSITY             SCHIELACK   \n",
       "3      201207           1000  OKLAHOMA STATE UNIVERSITY               SEMTNER   \n",
       "4      201207           1000  OKLAHOMA STATE UNIVERSITY               SHELTON   \n",
       "\n",
       "  Card Holder First Name          Description   Amount  \\\n",
       "0                      B     GENERAL PURCHASE   $29.00   \n",
       "1                      B     GENERAL PURCHASE  $119.80   \n",
       "2                      V     GENERAL PURCHASE   $84.99   \n",
       "3                      N  M10-1.25 HSS 3 F EA    $9.63   \n",
       "4                      C     GENERAL PURCHASE   $32.50   \n",
       "\n",
       "                      Vendor     Transaction Date          Posted Date  \\\n",
       "0  FERGUSON ENTERPRISES 1832  24.07.2012 00:00:00  25.07.2012 00:00:00   \n",
       "1        DOC'S SAVAGE SUPPLY  23.07.2012 00:00:00  25.07.2012 00:00:00   \n",
       "2      ATW OF CHICKASHA # 29  24.07.2012 00:00:00  25.07.2012 00:00:00   \n",
       "3         FASTENAL COMPANY01  24.07.2012 00:00:00  25.07.2012 00:00:00   \n",
       "4        WM SUPERCENTER#0137  24.07.2012 00:00:00  25.07.2012 00:00:00   \n",
       "\n",
       "                  Merchant Category Code (MCC)  \n",
       "0  PLUMBING AND HEATING EQUIPMENT AND SUPPLIES  \n",
       "1      NURSERIES LAWN AND GARDEN SUPPLY STORES  \n",
       "2    MISCELLANEOUS AND SPECIALTY RETAIL STORES  \n",
       "3                              HARDWARE STORES  \n",
       "4              GROCERY STORES AND SUPERMARKETS  "
      ]
     },
     "execution_count": 3,
     "metadata": {},
     "output_type": "execute_result"
    }
   ],
   "source": [
    "df.head()"
   ]
  },
  {
   "cell_type": "code",
   "execution_count": 4,
   "id": "851f2d93-c323-4d99-b258-a08af32b7ab0",
   "metadata": {
    "execution": {
     "iopub.execute_input": "2024-10-16T20:45:23.428737Z",
     "iopub.status.busy": "2024-10-16T20:45:23.428466Z",
     "iopub.status.idle": "2024-10-16T20:45:23.432205Z",
     "shell.execute_reply": "2024-10-16T20:45:23.431682Z",
     "shell.execute_reply.started": "2024-10-16T20:45:23.428719Z"
    }
   },
   "outputs": [],
   "source": [
    "def clean_unnamed(df: pd.DataFrame):\n",
    "    unnamed_cols = [col for col in df.columns if 'Unnamed' in col]\n",
    "    before_len = len(df)\n",
    "    for col in unnamed_cols:\n",
    "        df = df[pd.isna(df[col])]\n",
    "    after_len = len(df)\n",
    "    df.drop(columns=unnamed_cols, inplace=True)\n",
    "    return df"
   ]
  },
  {
   "cell_type": "code",
   "execution_count": 5,
   "id": "add70e2d-7616-4878-896b-7775ee1e1059",
   "metadata": {
    "execution": {
     "iopub.execute_input": "2024-10-16T20:45:23.434112Z",
     "iopub.status.busy": "2024-10-16T20:45:23.433545Z",
     "iopub.status.idle": "2024-10-16T20:45:23.437929Z",
     "shell.execute_reply": "2024-10-16T20:45:23.437486Z",
     "shell.execute_reply.started": "2024-10-16T20:45:23.434095Z"
    }
   },
   "outputs": [],
   "source": [
    "def clean_discrepant_names(df: pd.DataFrame):\n",
    "    discrepant_names_df = pd.DataFrame(df.groupby(['Agency Number'])['Agency Name'].unique()).reset_index()\n",
    "    discrepant_names = discrepant_names_df[discrepant_names_df['Agency Name'].apply(lambda x: len(x) > 1)].copy()\n",
    "    # this may not be the best way to select the names, but \n",
    "    # saves us from having to manually check the names and hard code the desired outputs\n",
    "    discrepant_names['Correct Name'] = [name[0] for name in discrepant_names['Agency Name']]\n",
    "    for agency_number in discrepant_names['Agency Number']:\n",
    "        correct_name = discrepant_names.loc[discrepant_names['Agency Number'] == agency_number, 'Correct Name'].values[0]\n",
    "        df.loc[df['Agency Number'] == agency_number, 'Agency Name'] = correct_name\n",
    "    return df"
   ]
  },
  {
   "cell_type": "code",
   "execution_count": 6,
   "id": "1cdb1dc7-df13-4cba-b9ae-e2d23d36e204",
   "metadata": {
    "execution": {
     "iopub.execute_input": "2024-10-16T20:45:23.439121Z",
     "iopub.status.busy": "2024-10-16T20:45:23.438483Z",
     "iopub.status.idle": "2024-10-16T20:45:23.442001Z",
     "shell.execute_reply": "2024-10-16T20:45:23.441549Z",
     "shell.execute_reply.started": "2024-10-16T20:45:23.439105Z"
    }
   },
   "outputs": [],
   "source": [
    "def clean_dates(df: pd.DataFrame):\n",
    "    # clean dates that are not in the format YYYY/MM/DD\n",
    "    df.dropna(subset=['Transaction Date'], inplace=True)\n",
    "    df['Transaction Date'] = df['Transaction Date'].apply(lambda x: x if '/' in x else None)\n",
    "    df.dropna(subset=['Transaction Date'], inplace=True)\n",
    "    df['Transaction Date'] = pd.to_datetime(df['Transaction Date'])\n",
    "    return df"
   ]
  },
  {
   "cell_type": "code",
   "execution_count": 7,
   "id": "90a45b4e-c8e4-4af1-ba39-06a063aecf2e",
   "metadata": {
    "execution": {
     "iopub.execute_input": "2024-10-16T20:45:23.443079Z",
     "iopub.status.busy": "2024-10-16T20:45:23.442519Z",
     "iopub.status.idle": "2024-10-16T20:45:23.819612Z",
     "shell.execute_reply": "2024-10-16T20:45:23.819045Z",
     "shell.execute_reply.started": "2024-10-16T20:45:23.443062Z"
    }
   },
   "outputs": [],
   "source": [
    "df = clean_unnamed(df)\n",
    "df = clean_discrepant_names(df)\n",
    "df = clean_dates(df)"
   ]
  },
  {
   "cell_type": "code",
   "execution_count": 8,
   "id": "3a7c976e-fb7a-4a3e-bdbb-04d05ea2c0ab",
   "metadata": {
    "execution": {
     "iopub.execute_input": "2024-10-16T20:45:23.820955Z",
     "iopub.status.busy": "2024-10-16T20:45:23.820314Z",
     "iopub.status.idle": "2024-10-16T20:45:23.889999Z",
     "shell.execute_reply": "2024-10-16T20:45:23.889486Z",
     "shell.execute_reply.started": "2024-10-16T20:45:23.820935Z"
    }
   },
   "outputs": [],
   "source": [
    "df['Transaction Date'] = pd.to_datetime(df['Transaction Date'])\n",
    "df['Amount'] = df['Amount'].apply(lambda x: str(x).strip(\"$()\").replace(\",\", \"\")).astype(float)"
   ]
  },
  {
   "cell_type": "code",
   "execution_count": 9,
   "id": "cd81e2fa-7e34-4e1b-b925-228996f7757d",
   "metadata": {
    "execution": {
     "iopub.execute_input": "2024-10-16T20:45:23.891249Z",
     "iopub.status.busy": "2024-10-16T20:45:23.890659Z",
     "iopub.status.idle": "2024-10-16T20:45:23.900180Z",
     "shell.execute_reply": "2024-10-16T20:45:23.899547Z",
     "shell.execute_reply.started": "2024-10-16T20:45:23.891231Z"
    }
   },
   "outputs": [
    {
     "data": {
      "text/html": [
       "<div>\n",
       "<style scoped>\n",
       "    .dataframe tbody tr th:only-of-type {\n",
       "        vertical-align: middle;\n",
       "    }\n",
       "\n",
       "    .dataframe tbody tr th {\n",
       "        vertical-align: top;\n",
       "    }\n",
       "\n",
       "    .dataframe thead th {\n",
       "        text-align: right;\n",
       "    }\n",
       "</style>\n",
       "<table border=\"1\" class=\"dataframe\">\n",
       "  <thead>\n",
       "    <tr style=\"text-align: right;\">\n",
       "      <th></th>\n",
       "      <th>Year Month</th>\n",
       "      <th>Agency Number</th>\n",
       "      <th>Agency Name</th>\n",
       "      <th>Card Holder Last Name</th>\n",
       "      <th>Card Holder First Name</th>\n",
       "      <th>Description</th>\n",
       "      <th>Amount</th>\n",
       "      <th>Vendor</th>\n",
       "      <th>Transaction Date</th>\n",
       "      <th>Posted Date</th>\n",
       "      <th>Merchant Category Code (MCC)</th>\n",
       "    </tr>\n",
       "  </thead>\n",
       "  <tbody>\n",
       "    <tr>\n",
       "      <th>287825</th>\n",
       "      <td>201303</td>\n",
       "      <td>1000</td>\n",
       "      <td>OKLAHOMA STATE UNIVERSITY</td>\n",
       "      <td>Scott</td>\n",
       "      <td>T</td>\n",
       "      <td>GENERAL PURCHASE</td>\n",
       "      <td>990.00</td>\n",
       "      <td>HOUSEOFMAGNETS GOGBS.COM</td>\n",
       "      <td>2013-03-04</td>\n",
       "      <td>3/6/2013</td>\n",
       "      <td>MISCELLANEOUS PUBLISHING AND PRINTING SERVICES</td>\n",
       "    </tr>\n",
       "    <tr>\n",
       "      <th>287826</th>\n",
       "      <td>201303</td>\n",
       "      <td>1000</td>\n",
       "      <td>OKLAHOMA STATE UNIVERSITY</td>\n",
       "      <td>Scott</td>\n",
       "      <td>T</td>\n",
       "      <td>GENERAL PURCHASE</td>\n",
       "      <td>7.44</td>\n",
       "      <td>APL APPLE ITUNES STORE</td>\n",
       "      <td>2013-03-05</td>\n",
       "      <td>3/6/2013</td>\n",
       "      <td>RECORD STORES</td>\n",
       "    </tr>\n",
       "    <tr>\n",
       "      <th>287827</th>\n",
       "      <td>201303</td>\n",
       "      <td>1000</td>\n",
       "      <td>OKLAHOMA STATE UNIVERSITY</td>\n",
       "      <td>Scott</td>\n",
       "      <td>T</td>\n",
       "      <td>GENERAL PURCHASE</td>\n",
       "      <td>115.30</td>\n",
       "      <td>EUREKA WATER COMPANY</td>\n",
       "      <td>2013-03-04</td>\n",
       "      <td>3/6/2013</td>\n",
       "      <td>MISCELLANEOUS AND SPECIALTY RETAIL STORES</td>\n",
       "    </tr>\n",
       "    <tr>\n",
       "      <th>287828</th>\n",
       "      <td>201303</td>\n",
       "      <td>1000</td>\n",
       "      <td>OKLAHOMA STATE UNIVERSITY</td>\n",
       "      <td>Searcy</td>\n",
       "      <td>J</td>\n",
       "      <td>GENERAL PURCHASE</td>\n",
       "      <td>117.44</td>\n",
       "      <td>ECC DSS-Disc Sch Suppl</td>\n",
       "      <td>2013-03-05</td>\n",
       "      <td>3/6/2013</td>\n",
       "      <td>STATIONERY,OFFICE AND SCHOOL SUPPLY STORES</td>\n",
       "    </tr>\n",
       "    <tr>\n",
       "      <th>287829</th>\n",
       "      <td>201303</td>\n",
       "      <td>1000</td>\n",
       "      <td>OKLAHOMA STATE UNIVERSITY</td>\n",
       "      <td>Self</td>\n",
       "      <td>J</td>\n",
       "      <td>TZE-AF231 12MM BLKONWHT AF EA|HP 21/22 BLC/CLR...</td>\n",
       "      <td>71.47</td>\n",
       "      <td>STAPLS9238008823000</td>\n",
       "      <td>2013-03-05</td>\n",
       "      <td>3/6/2013</td>\n",
       "      <td>STATIONERY, OFFICE SUPPLIES, PRINTING AND WRIT...</td>\n",
       "    </tr>\n",
       "  </tbody>\n",
       "</table>\n",
       "</div>"
      ],
      "text/plain": [
       "        Year Month  Agency Number                Agency Name  \\\n",
       "287825      201303           1000  OKLAHOMA STATE UNIVERSITY   \n",
       "287826      201303           1000  OKLAHOMA STATE UNIVERSITY   \n",
       "287827      201303           1000  OKLAHOMA STATE UNIVERSITY   \n",
       "287828      201303           1000  OKLAHOMA STATE UNIVERSITY   \n",
       "287829      201303           1000  OKLAHOMA STATE UNIVERSITY   \n",
       "\n",
       "       Card Holder Last Name Card Holder First Name  \\\n",
       "287825                 Scott                      T   \n",
       "287826                 Scott                      T   \n",
       "287827                 Scott                      T   \n",
       "287828                Searcy                      J   \n",
       "287829                  Self                      J   \n",
       "\n",
       "                                              Description  Amount  \\\n",
       "287825                                   GENERAL PURCHASE  990.00   \n",
       "287826                                   GENERAL PURCHASE    7.44   \n",
       "287827                                   GENERAL PURCHASE  115.30   \n",
       "287828                                   GENERAL PURCHASE  117.44   \n",
       "287829  TZE-AF231 12MM BLKONWHT AF EA|HP 21/22 BLC/CLR...   71.47   \n",
       "\n",
       "                          Vendor Transaction Date Posted Date  \\\n",
       "287825  HOUSEOFMAGNETS GOGBS.COM       2013-03-04    3/6/2013   \n",
       "287826    APL APPLE ITUNES STORE       2013-03-05    3/6/2013   \n",
       "287827      EUREKA WATER COMPANY       2013-03-04    3/6/2013   \n",
       "287828    ECC DSS-Disc Sch Suppl       2013-03-05    3/6/2013   \n",
       "287829       STAPLS9238008823000       2013-03-05    3/6/2013   \n",
       "\n",
       "                             Merchant Category Code (MCC)  \n",
       "287825     MISCELLANEOUS PUBLISHING AND PRINTING SERVICES  \n",
       "287826                                      RECORD STORES  \n",
       "287827          MISCELLANEOUS AND SPECIALTY RETAIL STORES  \n",
       "287828         STATIONERY,OFFICE AND SCHOOL SUPPLY STORES  \n",
       "287829  STATIONERY, OFFICE SUPPLIES, PRINTING AND WRIT...  "
      ]
     },
     "execution_count": 9,
     "metadata": {},
     "output_type": "execute_result"
    }
   ],
   "source": [
    "df.head()"
   ]
  },
  {
   "cell_type": "markdown",
   "id": "abcec91c-00aa-4b4b-9114-d4fa0b626018",
   "metadata": {},
   "source": [
    "## Amount\n",
    "\n",
    "The amount column is pretty bottom heavy, with some very discrepant values in the millions that make the distribution pretty weird. \n",
    "\n",
    "To fix this issue when training the model, we'll apply a logarithmic scale to the amount values and then quantize them for a classification task downstream.\n",
    "\n",
    "The only problem with applying a log and quantizing these values is that we have cases where an item/service was refunded, so they appear negative in the dataset."
   ]
  },
  {
   "cell_type": "code",
   "execution_count": 23,
   "id": "71ed3f50-e1d8-4bf2-8a4c-6e32bf8e8fb9",
   "metadata": {
    "execution": {
     "iopub.execute_input": "2024-10-16T21:08:36.306318Z",
     "iopub.status.busy": "2024-10-16T21:08:36.305774Z",
     "iopub.status.idle": "2024-10-16T21:08:36.460884Z",
     "shell.execute_reply": "2024-10-16T21:08:36.460405Z",
     "shell.execute_reply.started": "2024-10-16T21:08:36.306290Z"
    }
   },
   "outputs": [
    {
     "data": {
      "text/plain": [
       "Text(0.5, 1.0, 'Histogram of original Amount values on Dataset 2013-2014')"
      ]
     },
     "execution_count": 23,
     "metadata": {},
     "output_type": "execute_result"
    },
    {
     "data": {
      "image/png": "[encoded data removed]",
      "text/plain": [
       "<Figure size 640x480 with 1 Axes>"
      ]
     },
     "metadata": {},
     "output_type": "display_data"
    }
   ],
   "source": [
    "plt.figure()\n",
    "plt.grid(False)\n",
    "plt.hist(df['Amount'])\n",
    "plt.title('Histogram of original Amount values on Dataset 2012-2013')"
   ]
  },
  {
   "cell_type": "code",
   "execution_count": 11,
   "id": "07c829e7-e2f1-423f-af41-f02ecba775fe",
   "metadata": {
    "execution": {
     "iopub.execute_input": "2024-10-16T20:45:24.247032Z",
     "iopub.status.busy": "2024-10-16T20:45:24.246479Z",
     "iopub.status.idle": "2024-10-16T20:45:24.753771Z",
     "shell.execute_reply": "2024-10-16T20:45:24.753156Z",
     "shell.execute_reply.started": "2024-10-16T20:45:24.247011Z"
    }
   },
   "outputs": [],
   "source": [
    "import numpy as np\n",
    "import math\n",
    "\n",
    "def _quantize(data: np.ndarray, num_bins: int, min_value: float = 0.01, max_value: float = 1e7):\n",
    "    log_min = math.log1p(min_value)\n",
    "    log_max = math.log1p(max_value)\n",
    "    bin_edges = np.logspace(log_min, log_max, num=num_bins+1, base=math.e) - 1\n",
    "    bin_edges = np.concatenate([[-np.inf], [0], bin_edges, [np.inf]])\n",
    "\n",
    "    def quantize(x):\n",
    "        if x < 0:\n",
    "            return 0  # Bin for negative values (refunds)\n",
    "        elif x == 0:\n",
    "            return 1  # Bin for zero values\n",
    "        else:\n",
    "            return np.digitize(x, bin_edges) - 1\n",
    "    quant_inputs = np.array([quantize(x) for x in data])\n",
    "    return quant_inputs, bin_edges\n",
    "    \n",
    "quant_inputs, bin_edges = _quantize(df['Amount'], num_bins=20)"
   ]
  },
  {
   "cell_type": "code",
   "execution_count": 28,
   "id": "1bf62c72-f241-4d4a-a107-70846870f134",
   "metadata": {
    "execution": {
     "iopub.execute_input": "2024-10-16T21:13:22.843222Z",
     "iopub.status.busy": "2024-10-16T21:13:22.842568Z",
     "iopub.status.idle": "2024-10-16T21:13:23.068673Z",
     "shell.execute_reply": "2024-10-16T21:13:23.068255Z",
     "shell.execute_reply.started": "2024-10-16T21:13:22.843198Z"
    }
   },
   "outputs": [
    {
     "data": {
      "text/plain": [
       "Text(0.5, 1.0, 'Histogram of Amount values (log scale) on Dataset 2012-2013')"
      ]
     },
     "execution_count": 28,
     "metadata": {},
     "output_type": "execute_result"
    },
    {
     "data": {
      "image/png": "[encoded data removed]",
      "text/plain": [
       "<Figure size 640x480 with 1 Axes>"
      ]
     },
     "metadata": {},
     "output_type": "display_data"
    }
   ],
   "source": [
    "df['Amount_Log'] = quant_inputs\n",
    "\n",
    "plt.figure()\n",
    "plt.grid(False)\n",
    "plt.hist(df['Amount_Log'], bins=20)\n",
    "plt.title('Histogram of Amount values (log scale) on Dataset 2012-2013')"
   ]
  },
  {
   "cell_type": "markdown",
   "id": "420714a9-1f3f-466b-9046-604aaf17027a",
   "metadata": {},
   "source": [
    "It looks like that our distribution is much better, but it still has a somewhat normal distribution to the values. This may be a problem for our training since we have much more data points in the ~4 to ~ 12 range of the distrbution\n",
    "\n",
    "We should consider upsampling these points."
   ]
  },
  {
   "cell_type": "markdown",
   "id": "a183bb7d-78c4-442f-b1d6-9f2afddcb974",
   "metadata": {},
   "source": [
    "## Transaction Date\n",
    "\n",
    "It seems that we have very few data points on the lower portion of our transaction dates."
   ]
  },
  {
   "cell_type": "code",
   "execution_count": 72,
   "id": "d3cb1d0d-9638-4850-b98f-133461d1f93a",
   "metadata": {
    "execution": {
     "iopub.execute_input": "2024-10-16T21:40:37.817670Z",
     "iopub.status.busy": "2024-10-16T21:40:37.816983Z",
     "iopub.status.idle": "2024-10-16T21:40:38.249303Z",
     "shell.execute_reply": "2024-10-16T21:40:38.248653Z",
     "shell.execute_reply.started": "2024-10-16T21:40:37.817639Z"
    }
   },
   "outputs": [
    {
     "data": {
      "text/plain": [
       "Text(0.5, 1.0, 'Histogram of original Transaction Date values on Dataset 2012-2013')"
      ]
     },
     "execution_count": 72,
     "metadata": {},
     "output_type": "execute_result"
    },
    {
     "data": {
      "image/png": "[encoded data removed]",
      "text/plain": [
       "<Figure size 640x480 with 1 Axes>"
      ]
     },
     "metadata": {},
     "output_type": "display_data"
    }
   ],
   "source": [
    "plt.figure()\n",
    "plt.grid(False)\n",
    "plt.hist(df['Transaction Date'], bins=365)\n",
    "plt.xticks(rotation='vertical')\n",
    "plt.title('Histogram of original Transaction Date values on Dataset 2012-2013')"
   ]
  },
  {
   "cell_type": "markdown",
   "id": "ddb0f1ff-721f-4b3f-9fb2-7e704c82b30e",
   "metadata": {},
   "source": [
    "Let's count the number and percentage of samples in the lower portion of our data points to see if they are either outliers or if we should keep them either way."
   ]
  },
  {
   "cell_type": "code",
   "execution_count": 31,
   "id": "b0f3ae2e-748f-4404-8f59-db10c1cdc55c",
   "metadata": {
    "execution": {
     "iopub.execute_input": "2024-10-16T21:17:06.172142Z",
     "iopub.status.busy": "2024-10-16T21:17:06.171489Z",
     "iopub.status.idle": "2024-10-16T21:17:06.184100Z",
     "shell.execute_reply": "2024-10-16T21:17:06.183573Z",
     "shell.execute_reply.started": "2024-10-16T21:17:06.172120Z"
    }
   },
   "outputs": [
    {
     "name": "stdout",
     "output_type": "stream",
     "text": [
      "len lower portion: 2599\n",
      "percentage lower portion: 0.016881446647093973\n"
     ]
    },
    {
     "data": {
      "text/html": [
       "<div>\n",
       "<style scoped>\n",
       "    .dataframe tbody tr th:only-of-type {\n",
       "        vertical-align: middle;\n",
       "    }\n",
       "\n",
       "    .dataframe tbody tr th {\n",
       "        vertical-align: top;\n",
       "    }\n",
       "\n",
       "    .dataframe thead th {\n",
       "        text-align: right;\n",
       "    }\n",
       "</style>\n",
       "<table border=\"1\" class=\"dataframe\">\n",
       "  <thead>\n",
       "    <tr style=\"text-align: right;\">\n",
       "      <th></th>\n",
       "      <th>Year Month</th>\n",
       "      <th>Agency Number</th>\n",
       "      <th>Agency Name</th>\n",
       "      <th>Card Holder Last Name</th>\n",
       "      <th>Card Holder First Name</th>\n",
       "      <th>Description</th>\n",
       "      <th>Amount</th>\n",
       "      <th>Vendor</th>\n",
       "      <th>Transaction Date</th>\n",
       "      <th>Posted Date</th>\n",
       "      <th>Merchant Category Code (MCC)</th>\n",
       "      <th>Amount_Quant</th>\n",
       "      <th>Amount_Log</th>\n",
       "    </tr>\n",
       "  </thead>\n",
       "  <tbody>\n",
       "    <tr>\n",
       "      <th>287853</th>\n",
       "      <td>201303</td>\n",
       "      <td>1000</td>\n",
       "      <td>OKLAHOMA STATE UNIVERSITY</td>\n",
       "      <td>Chapman</td>\n",
       "      <td>M</td>\n",
       "      <td>GENERAL PURCHASE</td>\n",
       "      <td>34.8</td>\n",
       "      <td>WWW.MUSICROOM.COM</td>\n",
       "      <td>2013-02-28</td>\n",
       "      <td>3/4/2013</td>\n",
       "      <td>MUSIC STORES-MUSICAL INSTRUMENTS,PIANOS,AND SH...</td>\n",
       "      <td>6</td>\n",
       "      <td>6</td>\n",
       "    </tr>\n",
       "    <tr>\n",
       "      <th>287856</th>\n",
       "      <td>201303</td>\n",
       "      <td>1000</td>\n",
       "      <td>OKLAHOMA STATE UNIVERSITY</td>\n",
       "      <td>Clinkenbeard</td>\n",
       "      <td>P</td>\n",
       "      <td>GENERAL PURCHASE</td>\n",
       "      <td>30.2</td>\n",
       "      <td>HARDY DIAGNOSTICS</td>\n",
       "      <td>2013-02-28</td>\n",
       "      <td>3/4/2013</td>\n",
       "      <td>DENTAL/LABORATORY/MEDICAL/OPHTHALMIC HOSP EQIP...</td>\n",
       "      <td>6</td>\n",
       "      <td>6</td>\n",
       "    </tr>\n",
       "    <tr>\n",
       "      <th>287878</th>\n",
       "      <td>201303</td>\n",
       "      <td>1000</td>\n",
       "      <td>OKLAHOMA STATE UNIVERSITY</td>\n",
       "      <td>Yarbrough-Tessman</td>\n",
       "      <td>V</td>\n",
       "      <td>GENERAL PURCHASE</td>\n",
       "      <td>198.0</td>\n",
       "      <td>COVIDIEN</td>\n",
       "      <td>2013-02-28</td>\n",
       "      <td>3/4/2013</td>\n",
       "      <td>DENTAL/LABORATORY/MEDICAL/OPHTHALMIC HOSP EQIP...</td>\n",
       "      <td>8</td>\n",
       "      <td>8</td>\n",
       "    </tr>\n",
       "    <tr>\n",
       "      <th>287884</th>\n",
       "      <td>201303</td>\n",
       "      <td>1000</td>\n",
       "      <td>OKLAHOMA STATE UNIVERSITY</td>\n",
       "      <td>Yosten</td>\n",
       "      <td>B</td>\n",
       "      <td>AIR TRAVEL</td>\n",
       "      <td>150.0</td>\n",
       "      <td>AMERICAN AI 0012600835625</td>\n",
       "      <td>2013-02-28</td>\n",
       "      <td>3/4/2013</td>\n",
       "      <td>AMERICAN AIRLINES</td>\n",
       "      <td>8</td>\n",
       "      <td>8</td>\n",
       "    </tr>\n",
       "    <tr>\n",
       "      <th>287909</th>\n",
       "      <td>201303</td>\n",
       "      <td>1000</td>\n",
       "      <td>OKLAHOMA STATE UNIVERSITY</td>\n",
       "      <td>Waters</td>\n",
       "      <td>M</td>\n",
       "      <td>GENERAL PURCHASE</td>\n",
       "      <td>-52.3</td>\n",
       "      <td>Claim ADJ/TEXAS AIRSYSTEM</td>\n",
       "      <td>2013-01-02</td>\n",
       "      <td>3/6/2013</td>\n",
       "      <td>HEATING,PLUMBING,AND AIR CONDITIONING CONTRACTORS</td>\n",
       "      <td>0</td>\n",
       "      <td>0</td>\n",
       "    </tr>\n",
       "  </tbody>\n",
       "</table>\n",
       "</div>"
      ],
      "text/plain": [
       "        Year Month  Agency Number                Agency Name  \\\n",
       "287853      201303           1000  OKLAHOMA STATE UNIVERSITY   \n",
       "287856      201303           1000  OKLAHOMA STATE UNIVERSITY   \n",
       "287878      201303           1000  OKLAHOMA STATE UNIVERSITY   \n",
       "287884      201303           1000  OKLAHOMA STATE UNIVERSITY   \n",
       "287909      201303           1000  OKLAHOMA STATE UNIVERSITY   \n",
       "\n",
       "       Card Holder Last Name Card Holder First Name       Description  Amount  \\\n",
       "287853               Chapman                      M  GENERAL PURCHASE    34.8   \n",
       "287856          Clinkenbeard                      P  GENERAL PURCHASE    30.2   \n",
       "287878     Yarbrough-Tessman                      V  GENERAL PURCHASE   198.0   \n",
       "287884                Yosten                      B        AIR TRAVEL   150.0   \n",
       "287909                Waters                      M  GENERAL PURCHASE   -52.3   \n",
       "\n",
       "                           Vendor Transaction Date Posted Date  \\\n",
       "287853          WWW.MUSICROOM.COM       2013-02-28    3/4/2013   \n",
       "287856          HARDY DIAGNOSTICS       2013-02-28    3/4/2013   \n",
       "287878                   COVIDIEN       2013-02-28    3/4/2013   \n",
       "287884  AMERICAN AI 0012600835625       2013-02-28    3/4/2013   \n",
       "287909  Claim ADJ/TEXAS AIRSYSTEM       2013-01-02    3/6/2013   \n",
       "\n",
       "                             Merchant Category Code (MCC)  Amount_Quant  \\\n",
       "287853  MUSIC STORES-MUSICAL INSTRUMENTS,PIANOS,AND SH...             6   \n",
       "287856  DENTAL/LABORATORY/MEDICAL/OPHTHALMIC HOSP EQIP...             6   \n",
       "287878  DENTAL/LABORATORY/MEDICAL/OPHTHALMIC HOSP EQIP...             8   \n",
       "287884                                  AMERICAN AIRLINES             8   \n",
       "287909  HEATING,PLUMBING,AND AIR CONDITIONING CONTRACTORS             0   \n",
       "\n",
       "        Amount_Log  \n",
       "287853           6  \n",
       "287856           6  \n",
       "287878           8  \n",
       "287884           8  \n",
       "287909           0  "
      ]
     },
     "execution_count": 31,
     "metadata": {},
     "output_type": "execute_result"
    }
   ],
   "source": [
    "lower_portion_df = df[df['Transaction Date'] < pd.to_datetime('2013-03')]\n",
    "print(f'len lower portion: {len(lower_portion_df)}')\n",
    "print(f'percentage lower portion: {len(lower_portion_df)/len(df)}')\n",
    "lower_portion_df.head()"
   ]
  },
  {
   "cell_type": "code",
   "execution_count": 33,
   "id": "9b5ad8fe-765d-4052-8c89-923438fd0f40",
   "metadata": {
    "execution": {
     "iopub.execute_input": "2024-10-16T21:21:20.901727Z",
     "iopub.status.busy": "2024-10-16T21:21:20.901463Z",
     "iopub.status.idle": "2024-10-16T21:21:20.919577Z",
     "shell.execute_reply": "2024-10-16T21:21:20.918915Z",
     "shell.execute_reply.started": "2024-10-16T21:21:20.901708Z"
    }
   },
   "outputs": [
    {
     "name": "stdout",
     "output_type": "stream",
     "text": [
      "Mean amount transacted on the lower portion: 401.8390111581378\n",
      "Mean amount transacted on the upper portion: 454.53712348949836\n"
     ]
    }
   ],
   "source": [
    "mean_lower_portion_amount = lower_portion_df['Amount'].abs().mean()\n",
    "mean_upper_portion_amount = df[df['Transaction Date'] >= pd.to_datetime('2013-03')]['Amount'].abs().mean()\n",
    "print(f'Mean amount transacted on the lower portion: {mean_lower_portion_amount}')\n",
    "print(f'Mean amount transacted on the upper portion: {mean_upper_portion_amount}')\n",
    "                                                                                   \n",
    "                                                                       "
   ]
  },
  {
   "cell_type": "markdown",
   "id": "eab799a6-0984-4ef2-acfe-07a58cef8e80",
   "metadata": {},
   "source": [
    "The lower portion of our transactions account for only 1.6% of the data points, and the mean amount transacted in these portions is more or less equal to the one in the upper portions.\n",
    "\n",
    "It seems that these values are of transactions that were made in the first part of the year but were only delivered/posted a few months later, so they fell into the category of the latter half of the dataset.\n",
    "Let's explore just a little bit more to see if there's any important data points in there. "
   ]
  },
  {
   "cell_type": "code",
   "execution_count": 35,
   "id": "45706d99-af8e-45f7-b500-9da9a663e225",
   "metadata": {
    "execution": {
     "iopub.execute_input": "2024-10-16T21:24:11.866398Z",
     "iopub.status.busy": "2024-10-16T21:24:11.865747Z",
     "iopub.status.idle": "2024-10-16T21:24:11.882450Z",
     "shell.execute_reply": "2024-10-16T21:24:11.881816Z",
     "shell.execute_reply.started": "2024-10-16T21:24:11.866374Z"
    }
   },
   "outputs": [],
   "source": [
    "upper_portion_df = df[df['Transaction Date'] >= pd.to_datetime('2013-03')]\n"
   ]
  },
  {
   "cell_type": "code",
   "execution_count": 41,
   "id": "d7287aab-3ebc-4eeb-b84a-b892488ba0a3",
   "metadata": {
    "execution": {
     "iopub.execute_input": "2024-10-16T21:25:42.015160Z",
     "iopub.status.busy": "2024-10-16T21:25:42.014579Z",
     "iopub.status.idle": "2024-10-16T21:25:42.026882Z",
     "shell.execute_reply": "2024-10-16T21:25:42.025758Z",
     "shell.execute_reply.started": "2024-10-16T21:25:42.015134Z"
    }
   },
   "outputs": [
    {
     "data": {
      "text/plain": [
       "set()"
      ]
     },
     "execution_count": 41,
     "metadata": {},
     "output_type": "execute_result"
    }
   ],
   "source": [
    "set(lower_portion_df['Agency Name'].unique()) - set(upper_portion_df['Agency Name'].unique())"
   ]
  },
  {
   "cell_type": "markdown",
   "id": "b9e8011a-7039-4c29-a669-e93ce13cbea0",
   "metadata": {},
   "source": [
    "There's no Agency represented in the lower portion that is not represented in the latter portions. Let's count how many data points of each one of the agencies that we lose if we just don't use the lower portion."
   ]
  },
  {
   "cell_type": "code",
   "execution_count": 56,
   "id": "66e3ef18-7df2-4572-8a8f-c359e6b4a8bc",
   "metadata": {
    "execution": {
     "iopub.execute_input": "2024-10-16T21:32:24.072402Z",
     "iopub.status.busy": "2024-10-16T21:32:24.071920Z",
     "iopub.status.idle": "2024-10-16T21:32:24.077542Z",
     "shell.execute_reply": "2024-10-16T21:32:24.077090Z",
     "shell.execute_reply.started": "2024-10-16T21:32:24.072379Z"
    }
   },
   "outputs": [],
   "source": [
    "datapoint_losses = pd.DataFrame(lower_portion_df.groupby('Agency Name').size()).rename(columns={0:'count_lower'})"
   ]
  },
  {
   "cell_type": "code",
   "execution_count": 57,
   "id": "2c6b35de-34e9-4e49-931c-1c49f6cf2728",
   "metadata": {
    "execution": {
     "iopub.execute_input": "2024-10-16T21:32:24.723556Z",
     "iopub.status.busy": "2024-10-16T21:32:24.722828Z",
     "iopub.status.idle": "2024-10-16T21:32:24.743949Z",
     "shell.execute_reply": "2024-10-16T21:32:24.743408Z",
     "shell.execute_reply.started": "2024-10-16T21:32:24.723524Z"
    }
   },
   "outputs": [],
   "source": [
    "upper_portion_counts_per_agency = pd.DataFrame(upper_portion_df.groupby('Agency Name').size()).rename(columns={0:'count_upper'})\n",
    "datapoint_losses = datapoint_losses.join(other=upper_portion_counts_per_agency, on='Agency Name', how='left')"
   ]
  },
  {
   "cell_type": "code",
   "execution_count": 62,
   "id": "98b02776-05b3-4748-aed4-c8082a28f836",
   "metadata": {
    "execution": {
     "iopub.execute_input": "2024-10-16T21:33:51.454281Z",
     "iopub.status.busy": "2024-10-16T21:33:51.453702Z",
     "iopub.status.idle": "2024-10-16T21:33:51.459034Z",
     "shell.execute_reply": "2024-10-16T21:33:51.458392Z",
     "shell.execute_reply.started": "2024-10-16T21:33:51.454257Z"
    }
   },
   "outputs": [],
   "source": [
    "datapoint_losses['loss_percentage'] = (datapoint_losses['count_lower'] / (datapoint_losses['count_upper'] + datapoint_losses['count_lower']))"
   ]
  },
  {
   "cell_type": "code",
   "execution_count": 64,
   "id": "b27b1ed7-c7b3-46bf-8c4c-7fc8bb8f4bdb",
   "metadata": {
    "execution": {
     "iopub.execute_input": "2024-10-16T21:34:05.772707Z",
     "iopub.status.busy": "2024-10-16T21:34:05.772082Z",
     "iopub.status.idle": "2024-10-16T21:34:05.869032Z",
     "shell.execute_reply": "2024-10-16T21:34:05.868593Z",
     "shell.execute_reply.started": "2024-10-16T21:34:05.772684Z"
    }
   },
   "outputs": [
    {
     "data": {
      "text/plain": [
       "<AxesSubplot: >"
      ]
     },
     "execution_count": 64,
     "metadata": {},
     "output_type": "execute_result"
    },
    {
     "data": {
      "image/png": "[encoded data removed]",
      "text/plain": [
       "<Figure size 640x480 with 1 Axes>"
      ]
     },
     "metadata": {},
     "output_type": "display_data"
    }
   ],
   "source": [
    "datapoint_losses['loss_percentage'].hist()"
   ]
  },
  {
   "cell_type": "code",
   "execution_count": 66,
   "id": "47ecc7d5-8856-41ad-8c0d-27906350f943",
   "metadata": {
    "execution": {
     "iopub.execute_input": "2024-10-16T21:34:49.423970Z",
     "iopub.status.busy": "2024-10-16T21:34:49.423320Z",
     "iopub.status.idle": "2024-10-16T21:34:49.430338Z",
     "shell.execute_reply": "2024-10-16T21:34:49.429947Z",
     "shell.execute_reply.started": "2024-10-16T21:34:49.423946Z"
    }
   },
   "outputs": [
    {
     "data": {
      "text/html": [
       "<div>\n",
       "<style scoped>\n",
       "    .dataframe tbody tr th:only-of-type {\n",
       "        vertical-align: middle;\n",
       "    }\n",
       "\n",
       "    .dataframe tbody tr th {\n",
       "        vertical-align: top;\n",
       "    }\n",
       "\n",
       "    .dataframe thead th {\n",
       "        text-align: right;\n",
       "    }\n",
       "</style>\n",
       "<table border=\"1\" class=\"dataframe\">\n",
       "  <thead>\n",
       "    <tr style=\"text-align: right;\">\n",
       "      <th></th>\n",
       "      <th>count_lower</th>\n",
       "      <th>count_upper</th>\n",
       "      <th>loss_percentage</th>\n",
       "    </tr>\n",
       "    <tr>\n",
       "      <th>Agency Name</th>\n",
       "      <th></th>\n",
       "      <th></th>\n",
       "      <th></th>\n",
       "    </tr>\n",
       "  </thead>\n",
       "  <tbody>\n",
       "    <tr>\n",
       "      <th>CAPITOL IMPROVEMENT AUTHORITY</th>\n",
       "      <td>2</td>\n",
       "      <td>9</td>\n",
       "      <td>0.181818</td>\n",
       "    </tr>\n",
       "    <tr>\n",
       "      <th>REDLANDS COMMUNITY COLLEGE</th>\n",
       "      <td>38</td>\n",
       "      <td>706</td>\n",
       "      <td>0.051075</td>\n",
       "    </tr>\n",
       "    <tr>\n",
       "      <th>DEPARTMENT OF CIVIL EMERGENCY MANAGEMEN</th>\n",
       "      <td>7</td>\n",
       "      <td>136</td>\n",
       "      <td>0.048951</td>\n",
       "    </tr>\n",
       "    <tr>\n",
       "      <th>LANGSTON UNIVERSITY</th>\n",
       "      <td>29</td>\n",
       "      <td>588</td>\n",
       "      <td>0.047002</td>\n",
       "    </tr>\n",
       "    <tr>\n",
       "      <th>STATE BOND ADVISOR</th>\n",
       "      <td>1</td>\n",
       "      <td>23</td>\n",
       "      <td>0.041667</td>\n",
       "    </tr>\n",
       "    <tr>\n",
       "      <th>FIREFIGHTERS PENS. &amp; RET. SYST.</th>\n",
       "      <td>4</td>\n",
       "      <td>95</td>\n",
       "      <td>0.040404</td>\n",
       "    </tr>\n",
       "    <tr>\n",
       "      <th>POLICE PENSION &amp; RET. SYSTEM</th>\n",
       "      <td>2</td>\n",
       "      <td>48</td>\n",
       "      <td>0.040000</td>\n",
       "    </tr>\n",
       "    <tr>\n",
       "      <th>REGENTS FOR HIGHER EDUCATION</th>\n",
       "      <td>9</td>\n",
       "      <td>217</td>\n",
       "      <td>0.039823</td>\n",
       "    </tr>\n",
       "    <tr>\n",
       "      <th>OK. COMM. FOR TEACHER PREP.</th>\n",
       "      <td>4</td>\n",
       "      <td>101</td>\n",
       "      <td>0.038095</td>\n",
       "    </tr>\n",
       "    <tr>\n",
       "      <th>GOVERNOR</th>\n",
       "      <td>4</td>\n",
       "      <td>101</td>\n",
       "      <td>0.038095</td>\n",
       "    </tr>\n",
       "  </tbody>\n",
       "</table>\n",
       "</div>"
      ],
      "text/plain": [
       "                                         count_lower  count_upper  \\\n",
       "Agency Name                                                         \n",
       "CAPITOL IMPROVEMENT AUTHORITY                      2            9   \n",
       "REDLANDS COMMUNITY COLLEGE                        38          706   \n",
       "DEPARTMENT OF CIVIL EMERGENCY MANAGEMEN            7          136   \n",
       "LANGSTON UNIVERSITY                               29          588   \n",
       "STATE BOND ADVISOR                                 1           23   \n",
       "FIREFIGHTERS PENS. & RET. SYST.                    4           95   \n",
       "POLICE PENSION & RET. SYSTEM                       2           48   \n",
       "REGENTS FOR HIGHER EDUCATION                       9          217   \n",
       "OK. COMM. FOR TEACHER PREP.                        4          101   \n",
       "GOVERNOR                                           4          101   \n",
       "\n",
       "                                         loss_percentage  \n",
       "Agency Name                                               \n",
       "CAPITOL IMPROVEMENT AUTHORITY                   0.181818  \n",
       "REDLANDS COMMUNITY COLLEGE                      0.051075  \n",
       "DEPARTMENT OF CIVIL EMERGENCY MANAGEMEN         0.048951  \n",
       "LANGSTON UNIVERSITY                             0.047002  \n",
       "STATE BOND ADVISOR                              0.041667  \n",
       "FIREFIGHTERS PENS. & RET. SYST.                 0.040404  \n",
       "POLICE PENSION & RET. SYSTEM                    0.040000  \n",
       "REGENTS FOR HIGHER EDUCATION                    0.039823  \n",
       "OK. COMM. FOR TEACHER PREP.                     0.038095  \n",
       "GOVERNOR                                        0.038095  "
      ]
     },
     "execution_count": 66,
     "metadata": {},
     "output_type": "execute_result"
    }
   ],
   "source": [
    "datapoint_losses.sort_values('loss_percentage', ascending=False).head(10)"
   ]
  },
  {
   "cell_type": "markdown",
   "id": "41b4a229-520a-40ed-9339-af639713f71a",
   "metadata": {},
   "source": [
    "It looks like we only lose a significant amount of data points (18%) for one agency, which already has very low representation in the dataset. From this, we can conclude that we can ignore the values before 2013-03 and only use the upper half of the dataset."
   ]
  },
  {
   "cell_type": "code",
   "execution_count": 67,
   "id": "ca9ed925-946f-4a15-a291-1fe73985de77",
   "metadata": {
    "execution": {
     "iopub.execute_input": "2024-10-16T21:37:38.424612Z",
     "iopub.status.busy": "2024-10-16T21:37:38.424118Z",
     "iopub.status.idle": "2024-10-16T21:37:38.428342Z",
     "shell.execute_reply": "2024-10-16T21:37:38.427925Z",
     "shell.execute_reply.started": "2024-10-16T21:37:38.424588Z"
    }
   },
   "outputs": [
    {
     "data": {
      "text/plain": [
       "Timestamp('2013-03-04 00:00:00')"
      ]
     },
     "execution_count": 67,
     "metadata": {},
     "output_type": "execute_result"
    }
   ],
   "source": [
    "df['Transaction Date'].iloc[0]"
   ]
  },
  {
   "cell_type": "code",
   "execution_count": 70,
   "id": "ba96e7cc-eef3-4ef9-9a1c-da151a6db558",
   "metadata": {
    "execution": {
     "iopub.execute_input": "2024-10-16T21:39:52.652782Z",
     "iopub.status.busy": "2024-10-16T21:39:52.651921Z",
     "iopub.status.idle": "2024-10-16T21:39:52.669134Z",
     "shell.execute_reply": "2024-10-16T21:39:52.668663Z",
     "shell.execute_reply.started": "2024-10-16T21:39:52.652754Z"
    }
   },
   "outputs": [],
   "source": [
    "from pandas import Timestamp\n",
    "\n",
    "def filter_after_date(df: pd.DataFrame, date: Timestamp):\n",
    "    return df[df['Transaction Date'] > date]\n",
    "\n",
    "df = filter_after_date(df, date=pd.to_datetime('2013-03'))"
   ]
  },
  {
   "cell_type": "code",
   "execution_count": 71,
   "id": "5122aebc-a3ed-45e6-b25c-565a4a13819a",
   "metadata": {
    "execution": {
     "iopub.execute_input": "2024-10-16T21:40:24.780493Z",
     "iopub.status.busy": "2024-10-16T21:40:24.779728Z",
     "iopub.status.idle": "2024-10-16T21:40:25.218426Z",
     "shell.execute_reply": "2024-10-16T21:40:25.217843Z",
     "shell.execute_reply.started": "2024-10-16T21:40:24.780469Z"
    }
   },
   "outputs": [
    {
     "data": {
      "text/plain": [
       "Text(0.5, 1.0, 'Histogram of Transaction Dates (filtered after 2013-03) values on Dataset 2012-2013')"
      ]
     },
     "execution_count": 71,
     "metadata": {},
     "output_type": "execute_result"
    },
    {
     "data": {
      "image/png": "[encoded data removed]",
      "text/plain": [
       "<Figure size 640x480 with 1 Axes>"
      ]
     },
     "metadata": {},
     "output_type": "display_data"
    }
   ],
   "source": [
    "plt.figure()\n",
    "plt.grid(False)\n",
    "plt.hist(df['Transaction Date'], bins=365)\n",
    "plt.xticks(rotation='vertical')\n",
    "plt.title('Histogram of Transaction Dates (filtered after 2013-03) values on Dataset 2012-2013')"
   ]
  },
  {
   "cell_type": "markdown",
   "id": "847a712b-c15b-41be-801f-494992e2845c",
   "metadata": {},
   "source": [
    "Our new transaction dates also have a little bit of seasonality to them, which is expected. We can try upsampling these dates as well, but I think this intrisic seasonal nature of the data is also interesting for our model to learn."
   ]
  },
  {
   "cell_type": "code",
   "execution_count": null,
   "id": "0053481c-1afc-484b-a7d0-e092dbf710af",
   "metadata": {},
   "outputs": [],
   "source": []
  }
 ],
 "metadata": {
  "kernelspec": {
   "display_name": "Python 3 (ipykernel)",
   "language": "python",
   "name": "python3"
  },
  "language_info": {
   "codemirror_mode": {
    "name": "ipython",
    "version": 3
   },
   "file_extension": ".py",
   "mimetype": "text/x-python",
   "name": "python",
   "nbconvert_exporter": "python",
   "pygments_lexer": "ipython3",
   "version": "3.9.16"
  }
 },
 "nbformat": 4,
 "nbformat_minor": 5
}
